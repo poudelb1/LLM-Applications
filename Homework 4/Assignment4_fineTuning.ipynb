{
  "nbformat": 4,
  "nbformat_minor": 0,
  "metadata": {
    "colab": {
      "provenance": [],
      "gpuType": "T4"
    },
    "kernelspec": {
      "name": "python3",
      "display_name": "Python 3"
    },
    "language_info": {
      "name": "python"
    },
    "accelerator": "GPU"
  },
  "cells": [
    {
      "cell_type": "code",
      "source": [
        "from google.colab import drive\n",
        "#drive.flush_and_unmount()\n",
        "drive.mount('/content/drive/')"
      ],
      "metadata": {
        "colab": {
          "base_uri": "https://localhost:8080/"
        },
        "id": "j6bt0pPnBbS6",
        "outputId": "99a5aa79-c7f3-4bff-e595-2af42254d370"
      },
      "execution_count": 2,
      "outputs": [
        {
          "output_type": "stream",
          "name": "stdout",
          "text": [
            "Mounted at /content/drive/\n"
          ]
        }
      ]
    },
    {
      "cell_type": "code",
      "execution_count": 3,
      "metadata": {
        "colab": {
          "base_uri": "https://localhost:8080/"
        },
        "id": "sg5YcAhMBR_k",
        "outputId": "3c2da68f-b008-461d-d7cd-c5e27a5cc893"
      },
      "outputs": [
        {
          "output_type": "stream",
          "name": "stdout",
          "text": [
            "\u001b[2K     \u001b[90m━━━━━━━━━━━━━━━━━━━━━━━━━━━━━━━━━━━━━━━━\u001b[0m \u001b[32m328.5/328.5 kB\u001b[0m \u001b[31m2.6 MB/s\u001b[0m eta \u001b[36m0:00:00\u001b[0m\n",
            "\u001b[2K     \u001b[90m━━━━━━━━━━━━━━━━━━━━━━━━━━━━━━━━━━━━━━━━\u001b[0m \u001b[32m75.6/75.6 kB\u001b[0m \u001b[31m5.7 MB/s\u001b[0m eta \u001b[36m0:00:00\u001b[0m\n",
            "\u001b[2K     \u001b[90m━━━━━━━━━━━━━━━━━━━━━━━━━━━━━━━━━━━━━━━━\u001b[0m \u001b[32m77.9/77.9 kB\u001b[0m \u001b[31m7.5 MB/s\u001b[0m eta \u001b[36m0:00:00\u001b[0m\n",
            "\u001b[2K     \u001b[90m━━━━━━━━━━━━━━━━━━━━━━━━━━━━━━━━━━━━━━━━\u001b[0m \u001b[32m58.3/58.3 kB\u001b[0m \u001b[31m6.0 MB/s\u001b[0m eta \u001b[36m0:00:00\u001b[0m\n",
            "\u001b[?25h"
          ]
        }
      ],
      "source": [
        "!pip install -qqq openai"
      ]
    },
    {
      "cell_type": "code",
      "source": [
        "import os\n",
        "from google.colab import userdata\n",
        "os.environ['OPENAI_API_KEY'] = userdata.get('openai-key')"
      ],
      "metadata": {
        "id": "RmAzDYn6Boi6"
      },
      "execution_count": 4,
      "outputs": []
    },
    {
      "cell_type": "markdown",
      "source": [
        "## Zero-shot categorization\n",
        "Extract 20 news titles from each category of sentiments."
      ],
      "metadata": {
        "id": "l_8jtpQCyItz"
      }
    },
    {
      "cell_type": "code",
      "source": [
        "import random\n",
        "\n",
        "# File path\n",
        "file_path = 'Sentences_AllAgree.txt'\n",
        "\n",
        "# Function to load and categorize news titles\n",
        "def load_and_categorize_news(file_path):\n",
        "    positive = []\n",
        "    negative = []\n",
        "    neutral = []\n",
        "\n",
        "    with open(file_path, 'r', encoding='utf-8') as file:\n",
        "        for line in file:\n",
        "            if line.strip().endswith('@positive'):\n",
        "                positive.append(line.strip())\n",
        "            elif line.strip().endswith('@negative'):\n",
        "                negative.append(line.strip())\n",
        "            elif line.strip().endswith('@neutral'):\n",
        "                neutral.append(line.strip())\n",
        "\n",
        "    return positive, negative, neutral\n",
        "\n",
        "# Function to randomly extract 20 titles from each category\n",
        "def get_random_titles(positive, negative, neutral, num_samples):\n",
        "    selected_positive = random.sample(positive, num_samples)\n",
        "    selected_negative = random.sample(negative, num_samples)\n",
        "    selected_neutral = random.sample(neutral, num_samples)\n",
        "\n",
        "    return selected_positive, selected_negative, selected_neutral\n",
        "\n",
        "# Load and categorize news titles\n",
        "positive, negative, neutral = load_and_categorize_news(file_path)\n",
        "\n",
        "# Get random titles\n",
        "selected_positive, selected_negative, selected_neutral = get_random_titles(positive, negative, neutral, 20)\n",
        "\n",
        "# Combine titles in the required order\n",
        "ordered_titles = selected_positive + selected_negative + selected_neutral\n",
        "\n",
        "# Function to strip labels from titles and keep labels\n",
        "def strip_labels(titles):\n",
        "    stripped_titles = []\n",
        "    labels = []\n",
        "    for title in titles:\n",
        "        label = title.split('@')[-1]\n",
        "        stripped_title = title.rsplit('@', 1)[0]\n",
        "        stripped_titles.append(stripped_title)\n",
        "        labels.append(label)\n",
        "    return stripped_titles, labels\n",
        "\n",
        "# Strip labels from titles and keep the labels\n",
        "stripped_titles, original_labels = strip_labels(ordered_titles)"
      ],
      "metadata": {
        "id": "k-wsHeHfzbR7"
      },
      "execution_count": 36,
      "outputs": []
    },
    {
      "cell_type": "markdown",
      "source": [
        "Now, prepare the chat-completion API for zero-shot categorization"
      ],
      "metadata": {
        "id": "bJP_x5jZ0dTg"
      }
    },
    {
      "cell_type": "code",
      "source": [
        "from openai import OpenAI\n",
        "client = OpenAI()\n",
        "\n",
        "# Define the zero-shot prompt\n",
        "def create_prompt(title):\n",
        "    return f\"Please categorize the following news title as Positive, Negative, or Neutral on the stock price from the viewpoint of a retail investor.:\\n\\nTitle: {title}\"\n",
        "\n",
        "# Function to categorize a title using OpenAI's API\n",
        "def categorize_title(title):\n",
        "    prompt = create_prompt(title)\n",
        "    response = client.chat.completions.create(\n",
        "        model=\"gpt-3.5-turbo\",\n",
        "        messages=[\n",
        "            {\"role\": \"system\", \"content\": \"You are a helpful assistant that categorizes news titles correctly.\"},\n",
        "            {\"role\": \"user\", \"content\": prompt}\n",
        "        ]\n",
        "    )\n",
        "\n",
        "    # Ensure only the label is returned\n",
        "    response_text = response.choices[0].message.content.strip().lower()\n",
        "    if \"positive\" in response_text:\n",
        "        return \"positive\"\n",
        "    elif \"negative\" in response_text:\n",
        "        return \"negative\"\n",
        "    elif \"neutral\" in response_text:\n",
        "        return \"neutral\"\n",
        "    else:\n",
        "        return \"unknown\" # handle unexpected cases\n",
        "\n",
        "# Categorize each title and store the results\n",
        "predicted_labels = [categorize_title(title) for title in stripped_titles]\n",
        "\n",
        "# Convert original labels to lowercase for comparison\n",
        "original_labels = [label.lower() for label in original_labels]\n",
        "\n",
        "# Compare the original and predicted labels and calculate accuracy\n",
        "correct_predictions = sum(1 for orig, pred in zip(original_labels, predicted_labels) if orig == pred)\n",
        "total_predictions = len(original_labels)\n",
        "accuracy = correct_predictions / total_predictions\n",
        "\n",
        "# Print the results and accuracy\n",
        "print(f\"Correct Predictions: {correct_predictions}\")\n",
        "print(f\"Accuracy: {accuracy * 100:.2f}%\")\n",
        "\n",
        "# Print detailed results\n",
        "for title, orig_label, pred_label in zip(stripped_titles, original_labels, predicted_labels):\n",
        "    print(f\"Title: {title}\\nOriginal Label: {orig_label}\\nPredicted Label: {pred_label}\\n\")\n"
      ],
      "metadata": {
        "colab": {
          "base_uri": "https://localhost:8080/"
        },
        "collapsed": true,
        "id": "FhLwI7NC0izS",
        "outputId": "e37fc00c-037e-4f3e-8c56-14bb2553e90b"
      },
      "execution_count": 37,
      "outputs": [
        {
          "output_type": "stream",
          "name": "stdout",
          "text": [
            "Correct Predictions: 55\n",
            "Accuracy: 91.67%\n",
            "Title: Operating profit increased by 145.1 % to EUR 8.3 mn from EUR 3.4 mn .\n",
            "Original Label: positive\n",
            "Predicted Label: positive\n",
            "\n",
            "Title: Favourable currency rates also contributed to higher net sales , '' CEO Kari Kauniskangas said .\n",
            "Original Label: positive\n",
            "Predicted Label: positive\n",
            "\n",
            "Title: Total operating revenue grew by 27.6 % year-on-year to EUR61m .\n",
            "Original Label: positive\n",
            "Predicted Label: positive\n",
            "\n",
            "Title: Both operating profit and sales for the three-month period increased , respectively from EUR0 .3 m and EUR13 .1 m , as compared to the corresponding period in 2005 .\n",
            "Original Label: positive\n",
            "Predicted Label: positive\n",
            "\n",
            "Title: Last year the company raised its turnover to approximately 7 million litas EUR 2 mln , from 6.1 million litas in 2004 .\n",
            "Original Label: positive\n",
            "Predicted Label: positive\n",
            "\n",
            "Title: According to Nordic financial group Nordea 's analyst Sami Sarkamies , this makes Nokia 's portfolio competitive again .\n",
            "Original Label: positive\n",
            "Predicted Label: neutral\n",
            "\n",
            "Title: Finnish handling systems company Cargotec Oyj ( HEL : CGCBV ) said today that it won a EUR 13 million ( USD 16.6 m ) contract to deliver MacGregor hatch covers for ships ordered by Norwegian shipowner Grieg Shipping .\n",
            "Original Label: positive\n",
            "Predicted Label: positive\n",
            "\n",
            "Title: Operating loss was EUR 179mn , compared to a loss of EUR 188mn in the second quarter of 2009 .\n",
            "Original Label: positive\n",
            "Predicted Label: negative\n",
            "\n",
            "Title: `` We are pleased with the efforts of both negotiating teams and look forward to a productive four years ahead . ''\n",
            "Original Label: positive\n",
            "Predicted Label: neutral\n",
            "\n",
            "Title: Finnish consulting and engineering group Poyry Plc ( OMX Helsinki : POY ) said on Wednesday ( 1 October ) that it has been awarded a contract by Tanqia Dibba FZC as owner-engineer for the wastewater system of Dibba , Emirate of Fujairah , UAE .\n",
            "Original Label: positive\n",
            "Predicted Label: positive\n",
            "\n",
            "Title: Turnover rose to EUR21m from EUR17m .\n",
            "Original Label: positive\n",
            "Predicted Label: neutral\n",
            "\n",
            "Title: Order intake grew by 40 % year-on-year and 30 % year-on-year , respectively , to EUR 576 million and EUR 1.7 billion for the respective January-September and July-September 2010 periods .\n",
            "Original Label: positive\n",
            "Predicted Label: positive\n",
            "\n",
            "Title: It also turned in earnings per share ( EPS ) of EUR 0.44 versus loss per share of EUR 2.26 .\n",
            "Original Label: positive\n",
            "Predicted Label: positive\n",
            "\n",
            "Title: Finnish Talentum reports its operating profit increased to EUR 20.5 mn in 2005 from EUR 9.3 mn in 2004 , and net sales totaled EUR 103.3 mn , up from EUR 96.4 mn .\n",
            "Original Label: positive\n",
            "Predicted Label: positive\n",
            "\n",
            "Title: The optimization of the steel components heating process will reduce the energy consumption .\n",
            "Original Label: positive\n",
            "Predicted Label: positive\n",
            "\n",
            "Title: The company expects net sales to significantly increase from 2009 .\n",
            "Original Label: positive\n",
            "Predicted Label: positive\n",
            "\n",
            "Title: `` This vessel order will help Aspo secure the long-term competitiveness of its fleet , both in terms of technology and pricing .\n",
            "Original Label: positive\n",
            "Predicted Label: positive\n",
            "\n",
            "Title: Operating profit margin increased from 11.2 % to 11.7 % .\n",
            "Original Label: positive\n",
            "Predicted Label: positive\n",
            "\n",
            "Title: Operating profit was EUR 11.4 mn , up from EUR 7.5 mn .\n",
            "Original Label: positive\n",
            "Predicted Label: positive\n",
            "\n",
            "Title: Exports grew 16.5 percent to 19.1 million liters .\n",
            "Original Label: positive\n",
            "Predicted Label: neutral\n",
            "\n",
            "Title: Therefore , the company 's 2005 result will remain weaker than that of 2004 .\n",
            "Original Label: negative\n",
            "Predicted Label: negative\n",
            "\n",
            "Title: In September alone , the market declined by 10.2 percent year-on-year to 19.28 million liters .\n",
            "Original Label: negative\n",
            "Predicted Label: negative\n",
            "\n",
            "Title: Operating loss totalled EUR 12.7 mn , compared to a profit of EUR 17.7 mn in the first half of 2008 .\n",
            "Original Label: negative\n",
            "Predicted Label: negative\n",
            "\n",
            "Title: Finnish developer and manufacturer of mobile phone chargers Salcomp Plc OMX Helsinki : SAL1V on Wednesday 19 November lowered its full-year net sales estimate .\n",
            "Original Label: negative\n",
            "Predicted Label: negative\n",
            "\n",
            "Title: ( ADPnews ) - Feb 3 , 2010 - Finland-based steel maker Rautaruukki Oyj ( HEL : RTRKS ) , or Ruukki , said today it slipped to a larger-than-expected pretax loss of EUR 46 million ( USD 64.5 m ) in the fourth quarter of 2009 from a\n",
            "Original Label: negative\n",
            "Predicted Label: negative\n",
            "\n",
            "Title: Managing Director 's comments : `` Net sales for the first quarter were notably lower than a year before , especially in Finland , Russia and the Baltic countries .\n",
            "Original Label: negative\n",
            "Predicted Label: negative\n",
            "\n",
            "Title: Finnish Suominen Corporation that makes wipes , nonwovens , and flexible packaging , expects changes in the market situation to reduce sales of Suominen 's nonwovens and wet wipes from the previously estimated volumes .\n",
            "Original Label: negative\n",
            "Predicted Label: negative\n",
            "\n",
            "Title: Operating loss totaled EUR 25mn compared to a profit of EUR 63mn in the corresponding period in 2005 .\n",
            "Original Label: negative\n",
            "Predicted Label: negative\n",
            "\n",
            "Title: Glaston 's net profit for the third quarter of 2007 dropped to 2.4 mln euro ( $ 3.5 mln ) from 3.5 mln euro ( $ 5.1 mln ) for the corresponding period of 2006 .\n",
            "Original Label: negative\n",
            "Predicted Label: negative\n",
            "\n",
            "Title: The company reported today an operating loss of EUR0 .1 m on net sales of EUR4 .5 m for the first quarter 2008 .\n",
            "Original Label: negative\n",
            "Predicted Label: negative\n",
            "\n",
            "Title: Net cash flow from operating activities was a negative EUR 3.1 mn , compared to EUR 23.3 mn in the corresponding period in 2009 .\n",
            "Original Label: negative\n",
            "Predicted Label: negative\n",
            "\n",
            "Title: Pretax loss totalled EUR 162.3 mn compared to a profit of EUR 253.5 mn in 2007 .\n",
            "Original Label: negative\n",
            "Predicted Label: negative\n",
            "\n",
            "Title: Repeats sees 2008 operating profit down y-y ( Reporting by Helsinki Newsroom ) Keywords : TECNOMEN-RESULTS\n",
            "Original Label: negative\n",
            "Predicted Label: negative\n",
            "\n",
            "Title: Relations with the City have been further damaged by comments from Mr Ashley criticising City investors and analysts as `` cry babies '' .\n",
            "Original Label: negative\n",
            "Predicted Label: negative\n",
            "\n",
            "Title: Finnish waste management and cleaning group Lassila & Tikanoja Oyj ( L&T ) net profit went down to 32.2 mln euro ( $ 47.7 mln ) for 2007 from 35.3 mln euro ( $ 52.3 mln ) for 2006 .\n",
            "Original Label: negative\n",
            "Predicted Label: negative\n",
            "\n",
            "Title: Finnair said that the cancellation of flights would cause daily losses of  x20ac 2.5 million US$ 3 million .\n",
            "Original Label: negative\n",
            "Predicted Label: negative\n",
            "\n",
            "Title: The group 's operating loss was EUR 0.8 mn , down from a profit of EUR 2.5 mn in 2004 .\n",
            "Original Label: negative\n",
            "Predicted Label: negative\n",
            "\n",
            "Title: Loss after financial items totalled EUR 9.7 mn , compared to a profit of EUR 1.3 mn in the corresponding period in 2008 .\n",
            "Original Label: negative\n",
            "Predicted Label: negative\n",
            "\n",
            "Title: The company 's profit totaled Ls 578,100 in H1 2007 , down 30.9 % year-on-year .\n",
            "Original Label: negative\n",
            "Predicted Label: negative\n",
            "\n",
            "Title: The real estate company posted a net loss of +ó  x201a -¼ 59.3 million +ó  x201a -¼ 0.21 per share compared with a net profit of +ó  x201a -¼ 31 million +ó  x201a -¼ 0.11 per share for the corresponding quarter of 2007 .\n",
            "Original Label: negative\n",
            "Predicted Label: negative\n",
            "\n",
            "Title: The terms and conditions of Stock Option Scheme 2004 are available on the Group 's website .\n",
            "Original Label: neutral\n",
            "Predicted Label: neutral\n",
            "\n",
            "Title: The company expects its net sales for the whole of 2007 to be EUR 950mn-1 ,000 mn .\n",
            "Original Label: neutral\n",
            "Predicted Label: neutral\n",
            "\n",
            "Title: ` Sanoma is a buyer not a target , ' he said .\n",
            "Original Label: neutral\n",
            "Predicted Label: neutral\n",
            "\n",
            "Title: HELSINKI AFX - Salcomp , the mobile phone charger manufacturer , said it has appointed Markku Hangasjarvi as its new CEO , following the resignation of Mats Eriksson .\n",
            "Original Label: neutral\n",
            "Predicted Label: neutral\n",
            "\n",
            "Title: The company said that 80 % of the shares of the holding company will be sold to Meadville Holdings Limited , a Hong Kong listed parent company of the Meadville Group .\n",
            "Original Label: neutral\n",
            "Predicted Label: neutral\n",
            "\n",
            "Title: L+ñnnen Tehtaat 's Food Division was reorganised into two strategic business units , Apetit Frozen Foods and Jams , and Apetit Fish .\n",
            "Original Label: neutral\n",
            "Predicted Label: neutral\n",
            "\n",
            "Title: Arena Partners Oy is a development company for electronic business .\n",
            "Original Label: neutral\n",
            "Predicted Label: neutral\n",
            "\n",
            "Title: Elcoteq expects its net sales for the last quarter of 2010 to be on the level of the third quarter .\n",
            "Original Label: neutral\n",
            "Predicted Label: neutral\n",
            "\n",
            "Title: Latvia 's Stockmann shopping mall is a subsidiary of Finland 's Stockmann Plc. .\n",
            "Original Label: neutral\n",
            "Predicted Label: neutral\n",
            "\n",
            "Title: The company operates a U.S. division in Lisle , Ill. .\n",
            "Original Label: neutral\n",
            "Predicted Label: neutral\n",
            "\n",
            "Title: Ahlstrom 's 5,700 employees serve customers via sales offices and production facilities in more than 20 countries on six continents .\n",
            "Original Label: neutral\n",
            "Predicted Label: neutral\n",
            "\n",
            "Title: In 2007 , the Group 's net sales stood at EUR 42 million and it had about 1,445 employees .\n",
            "Original Label: neutral\n",
            "Predicted Label: neutral\n",
            "\n",
            "Title: Glaston 's share GLA1V is listed on the NASDAQ OMX Helsinki , Mid Cap List .\n",
            "Original Label: neutral\n",
            "Predicted Label: neutral\n",
            "\n",
            "Title: The orders also include a few high-power drives for the control of seismic compressors .\n",
            "Original Label: neutral\n",
            "Predicted Label: neutral\n",
            "\n",
            "Title: According to Gran , the company has no plans to move all production to Russia , although that is where the company is growing .\n",
            "Original Label: neutral\n",
            "Predicted Label: neutral\n",
            "\n",
            "Title: Of these shares 14,747,084 are held by the Company and the number of outstanding shares and voting rights attached to the shares amounts thus to 161,256,847 .\n",
            "Original Label: neutral\n",
            "Predicted Label: neutral\n",
            "\n",
            "Title: Our customers come from the following countries : UK , USA , Spain , France , Italy , Germany , China , Hong Kong , Sweden , Norway , Netherlands , Austria , Belgium , Switzerland , Czech Republic , Finland , Canada , Russia , Ukraine , Denmark , Ireland , South Korea and Liechtenstein .\n",
            "Original Label: neutral\n",
            "Predicted Label: neutral\n",
            "\n",
            "Title: Boomeranger Boats Oy specialises in boat building and designs , manufactures and sells customised Rigid Inflatable Boats RIB primarily for the Baltic Sea market .\n",
            "Original Label: neutral\n",
            "Predicted Label: neutral\n",
            "\n",
            "Title: At CapMan Haavisto will be responsible for Group Finances and Accounting and IT .\n",
            "Original Label: neutral\n",
            "Predicted Label: neutral\n",
            "\n",
            "Title: The flagship will open this fall in Manhattan 's Flatiron District in the `` Toy Building , '' at 200 Fifth Avenue .\n",
            "Original Label: neutral\n",
            "Predicted Label: neutral\n",
            "\n"
          ]
        }
      ]
    },
    {
      "cell_type": "markdown",
      "source": [
        "**RESULTS & OBSERVATIONS**\n",
        "\n",
        "As seen above, the zero-shot prompting for 60 news titles, resulted in the accuracy of 86.67%, predicting sentiment of 52 news titles accurately. Earlier, I had also tried just 30 titles, which achieved accuracy of 76.67%."
      ],
      "metadata": {
        "id": "QzREHW1N8Ts6"
      }
    },
    {
      "cell_type": "markdown",
      "source": [
        "## Training with 12 sample Sentiments"
      ],
      "metadata": {
        "id": "K2RUoj-z-C4K"
      }
    },
    {
      "cell_type": "code",
      "source": [
        "# Define example news titles with corresponding sentiment labels\n",
        "examples = [\n",
        "    {\"title\": \"Exports grew 16.5 percent to 19.1 million liters.\", \"label\": \"positive\"},\n",
        "    {\"title\": \"Sales in Latin America increased by 42% to EUR 432mn.\", \"label\": \"positive\"},\n",
        "    {\"title\": \"Profit for the period was EUR 5.9 mn, up from EUR 1.3 mn.\", \"label\": \"positive\"},\n",
        "    {\"title\": \"Diluted earnings per share (EPS) rose to EUR 1.05 from EUR 0.64.\", \"label\": \"positive\"},\n",
        "    {\"title\": \"Consolidated operating profit from continuing operations decreased by 62.3%.\", \"label\": \"negative\"},\n",
        "    {\"title\": \"Operating profit fell to EUR 20.3 mn from EUR 74.2 mn.\", \"label\": \"negative\"},\n",
        "    {\"title\": \"The net sales decreased to EUR 49.8 million from EUR 59.9 million.\", \"label\": \"negative\"},\n",
        "    {\"title\": \"The company reported today an operating loss of EUR0.1 m on net sales of EUR4.5 m.\", \"label\": \"negative\"},\n",
        "    {\"title\": \"Helsinki 19 May 2010 - Finnish company Lemminkainen Oyj said today that it will construct an office building.\", \"label\": \"neutral\"},\n",
        "    {\"title\": \"The new organization consists of two business units: Charging & Messaging and Finance & Administration.\", \"label\": \"neutral\"},\n",
        "    {\"title\": \"Group net sales in the third quarter of 2007 totaled EUR 142.3 mn.\", \"label\": \"neutral\"},\n",
        "    {\"title\": \"The value of the order is USD 2.3 mn.\", \"label\": \"neutral\"}\n",
        "]\n",
        "\n",
        "# Define the zero-shot prompt with examples\n",
        "def create_prompt_with_examples(title):\n",
        "    examples_text = \"\\n\".join([f\"Title: {ex['title']}\\nLabel: {ex['label']}\" for ex in examples])\n",
        "    return f\"Here are some examples of news titles with their corresponding sentiment labels:\\n\\n{examples_text}\\n\\nBased on these examples, please categorize the following news title as Positive, Negative, or Neutral:\\n\\nTitle: {title}\"\n",
        "\n",
        "# Function to categorize a title using OpenAI's API with examples\n",
        "def categorize_title_with_examples(title):\n",
        "    prompt = create_prompt_with_examples(title)\n",
        "    response = client.chat.completions.create(\n",
        "        model=\"gpt-3.5-turbo\",\n",
        "        messages=[\n",
        "            {\"role\": \"system\", \"content\": \"You are a helpful assistant that labels sentiments of news titles as in the examples provided.\"},\n",
        "            {\"role\": \"user\", \"content\": prompt}\n",
        "        ]\n",
        "    )\n",
        "    # Ensure only the label is returned\n",
        "    response_text = response.choices[0].message.content.strip().lower()\n",
        "    if \"positive\" in response_text:\n",
        "        return \"positive\"\n",
        "    elif \"negative\" in response_text:\n",
        "        return \"negative\"\n",
        "    elif \"neutral\" in response_text:\n",
        "        return \"neutral\"\n",
        "    else:\n",
        "        return \"unknown\"  # Handle unexpected cases\n",
        "\n",
        "# Categorize each title and store the results using the new function with examples\n",
        "predicted_labels_with_examples = [categorize_title_with_examples(title) for title in stripped_titles]\n",
        "\n",
        "# Compare the original and predicted labels and calculate accuracy\n",
        "correct_predictions_with_examples = sum(1 for orig, pred in zip(original_labels, predicted_labels_with_examples) if orig == pred)\n",
        "total_predictions_with_examples = len(original_labels)\n",
        "accuracy_with_examples = correct_predictions_with_examples / total_predictions_with_examples\n",
        "\n",
        "# Print the results and accuracy\n",
        "print(f\"Correct Predictions with Examples: {correct_predictions_with_examples}\")\n",
        "print(f\"Accuracy with Examples: {accuracy_with_examples * 100:.2f}%\")\n",
        "\n",
        "# Print detailed results with examples\n",
        "for title, orig_label, pred_label in zip(stripped_titles, original_labels, predicted_labels_with_examples):\n",
        "    print(f\"Title: {title}\\nOriginal Label: {orig_label}\\nPredicted Label with Examples: {pred_label}\\n\")\n"
      ],
      "metadata": {
        "colab": {
          "base_uri": "https://localhost:8080/"
        },
        "id": "NGys6bY59-dw",
        "outputId": "77d2ba04-ec4c-468c-87e0-29f6210d09e2"
      },
      "execution_count": 14,
      "outputs": [
        {
          "output_type": "stream",
          "name": "stdout",
          "text": [
            "Correct Predictions with Examples: 58\n",
            "Accuracy with Examples: 96.67%\n",
            "Title: Finnish consulting and engineering group Poyry Plc ( OMX Helsinki : POY ) said on Wednesday ( 1 October ) that it has been awarded a contract by Tanqia Dibba FZC as owner-engineer for the wastewater system of Dibba , Emirate of Fujairah , UAE .\n",
            "Original Label: positive\n",
            "Predicted Label with Examples: neutral\n",
            "\n",
            "Title: Both operating profit and net sales for the six-month period increased , respectively from EUR18 .1 m and EUR127 .6 m , as compared to the corresponding period in 2006 .\n",
            "Original Label: positive\n",
            "Predicted Label with Examples: positive\n",
            "\n",
            "Title: Finnish telecoms software developer Tecnomen Oyj said on December 5 , 2006 it won a $ 3.3 mln ( 2.5 mln euro ) order to supply an expansion of the charging and messaging systems for the mobile and fixed networks of Brasil Telecom .\n",
            "Original Label: positive\n",
            "Predicted Label with Examples: positive\n",
            "\n",
            "Title: Both the net sales and operating profit were record high in the company 's history .\n",
            "Original Label: positive\n",
            "Predicted Label with Examples: positive\n",
            "\n",
            "Title: `` I am extremely delighted with this project and the continuation of cooperation with Viking Line .\n",
            "Original Label: positive\n",
            "Predicted Label with Examples: positive\n",
            "\n",
            "Title: Finnish construction group Lemminkainen Oyj HEL : LEM1S said today it has won a contract to provide technical services for the Nevsky Centre shopping mall to be opened in November in St Petersburg , Russia .\n",
            "Original Label: positive\n",
            "Predicted Label with Examples: positive\n",
            "\n",
            "Title: Quarterly diluted EPS on continuing operations came in at 0.21 eur , compared with last year 's 0.12 eur .\n",
            "Original Label: positive\n",
            "Predicted Label with Examples: positive\n",
            "\n",
            "Title: Nevertheless , its market share rose to 49.14 percent from 48.51 percent a year earlier .\n",
            "Original Label: positive\n",
            "Predicted Label with Examples: negative\n",
            "\n",
            "Title: Profitability ( EBIT % ) was 13.9 % , compared to 13.1 % in the previous-year period .\n",
            "Original Label: positive\n",
            "Predicted Label with Examples: positive\n",
            "\n",
            "Title: Net sales surged by 18.5 % to EUR167 .8 m. Teleste said that EUR20 .4 m , or 12.2 % , of the sales came from the acquisitions made in 2009 .\n",
            "Original Label: positive\n",
            "Predicted Label with Examples: positive\n",
            "\n",
            "Title: Net sales of the Vegetable Oil Business rose to EUR 10.6 mn from EUR 10.1 mn .\n",
            "Original Label: positive\n",
            "Predicted Label with Examples: positive\n",
            "\n",
            "Title: Finnish KCI Konecranes has been awarded an order for four hot metal ladle cranes by Indian steel producer Bhushan Steel & Strips to be delivered in 2007 .\n",
            "Original Label: positive\n",
            "Predicted Label with Examples: positive\n",
            "\n",
            "Title: Progress Group , QPR 's representative in Saudi Arabia and North Africa , has signed a framework agreement for a long term strategic relationship with ISE .\n",
            "Original Label: positive\n",
            "Predicted Label with Examples: positive\n",
            "\n",
            "Title: In January-September 2009 , the Group 's net interest income increased to EUR 112.4 mn from EUR 74.3 mn in January-September 2008 .\n",
            "Original Label: positive\n",
            "Predicted Label with Examples: positive\n",
            "\n",
            "Title: In the first nine months of 2010 , the company 's net loss narrowed to EUR415 ,000 from EUR7 .4 m for the corresponding period of 2009 .\n",
            "Original Label: positive\n",
            "Predicted Label with Examples: positive\n",
            "\n",
            "Title: The company 's consolidated operating profit amounted to EUR 15.86 mn , up from EUR 4.14 mn year-on-year .\n",
            "Original Label: positive\n",
            "Predicted Label with Examples: positive\n",
            "\n",
            "Title: According to Viking Line 's Managing Director , Nils-Erik Eklund , the company 's Board of Directors is very satisfied with Viking Line 's performance .\n",
            "Original Label: positive\n",
            "Predicted Label with Examples: positive\n",
            "\n",
            "Title: Finnish lifting equipment maker Konecranes Oyj said on July 30 , 2008 that its net profit rose to 71.2 mln euro ( $ 111.1 mln ) for the first half of 2008 from 57.1 mln euro ( $ 89.1 mln ) for the same period of 2007 .\n",
            "Original Label: positive\n",
            "Predicted Label with Examples: positive\n",
            "\n",
            "Title: It therefore seems that Finnish shipping company Viking Line will get the subsidy it needs to order its new LNG-fuelled vessel .\n",
            "Original Label: positive\n",
            "Predicted Label with Examples: positive\n",
            "\n",
            "Title: 4 February 2011 - Finnish broadband data communication systems provider Teleste Oyj HEL : TLT1V said Wednesday its net profit rocketed to EUR4 .8 m in 2010 from EUR416 ,000 in 2009 and it lifted its dividend proposal .\n",
            "Original Label: positive\n",
            "Predicted Label with Examples: positive\n",
            "\n",
            "Title: In the fourth quarter of 2008 , net sales decreased to EUR 121.4 mn from EUR 165.5 mn in the fourth quarter of 2007 .\n",
            "Original Label: negative\n",
            "Predicted Label with Examples: negative\n",
            "\n",
            "Title: Operating profit decreased to EUR 11.2 mn from EUR 16.6 mn .\n",
            "Original Label: negative\n",
            "Predicted Label with Examples: negative\n",
            "\n",
            "Title: Finnish business software group AffectoGenimap Oyj said its net profit halved to 1.2 mln euro ( $ 1.5 mln ) in the first nine months of 2006 from 2.2 mln euro ( $ 2.8 mln ) in the same period of 2005 .\n",
            "Original Label: negative\n",
            "Predicted Label with Examples: negative\n",
            "\n",
            "Title: Nokia shares hit 13.21 euros on Friday , down 50 percent from the start of the year in part because of the slow introduction of touch-screen models .\n",
            "Original Label: negative\n",
            "Predicted Label with Examples: negative\n",
            "\n",
            "Title: - Demand for fireplace products was lower than expected , especially in Germany .\n",
            "Original Label: negative\n",
            "Predicted Label with Examples: negative\n",
            "\n",
            "Title: The total capital of funds managed by the bank decreased by 28 % to EUR 284mn by the end of September 2008 .\n",
            "Original Label: negative\n",
            "Predicted Label with Examples: negative\n",
            "\n",
            "Title: Finnish electronics contract manufacturer Scanfil had net sales of EUR 52.2 mn in the first quarter of 2007 , down from EUR 60.1 mn a year before .\n",
            "Original Label: negative\n",
            "Predicted Label with Examples: negative\n",
            "\n",
            "Title: The company reported today an operating loss of EUR0 .1 m on net sales of EUR4 .5 m for the first quarter 2008 .\n",
            "Original Label: negative\n",
            "Predicted Label with Examples: negative\n",
            "\n",
            "Title: At this growth rate , paying off the national debt will be extremely painful .\n",
            "Original Label: negative\n",
            "Predicted Label with Examples: negative\n",
            "\n",
            "Title: The situation of coated magazine printing paper will continue to be weak .\n",
            "Original Label: negative\n",
            "Predicted Label with Examples: negative\n",
            "\n",
            "Title: Finnair 's total traffic decreased by 8.7 % in terms of revenue passenger kilometres .\n",
            "Original Label: negative\n",
            "Predicted Label with Examples: negative\n",
            "\n",
            "Title: Finnish shipping company Finnlines , of the Grimaldi Group , reports its net sales decreased to EUR 241.8 mn in January-June 2009 from EUR 384.0 mn in the corresponding period in 2008 .\n",
            "Original Label: negative\n",
            "Predicted Label with Examples: negative\n",
            "\n",
            "Title: The period 's sales dropped to EUR 30.6 million from EUR 38.3 million , according to the interim report , released today .\n",
            "Original Label: negative\n",
            "Predicted Label with Examples: negative\n",
            "\n",
            "Title: Finnish plumbing and heating systems supplier Uponor 's net sales from continuing operations decreased by 9.4 % in 2008 to EUR 949.2 mn from EUR 1,047.4 mn in 2007 .\n",
            "Original Label: negative\n",
            "Predicted Label with Examples: negative\n",
            "\n",
            "Title: Finnair believes the strike will cause it daily net losses in excess of EUR 2mn due to canceled reservations and passenger re-routing .\n",
            "Original Label: negative\n",
            "Predicted Label with Examples: negative\n",
            "\n",
            "Title: Cramo slipped to a pretax loss of EUR 6.7 million from a pretax profit of EUR 58.9 million .\n",
            "Original Label: negative\n",
            "Predicted Label with Examples: negative\n",
            "\n",
            "Title: Finnish power supply solutions and systems provider Efore Oyj said its net loss widened to 3.2 mln euro $ 4.2 mln for the first quarter of fiscal 2006-2007 ending October 31 , 2007 from 900,000 euro $ 1.2 mln for the same period of fiscal 2005-06 .\n",
            "Original Label: negative\n",
            "Predicted Label with Examples: negative\n",
            "\n",
            "Title: Group EBIT for the first half was EUR13 .6 m US$ 17.8 m , falling short of the EUR22 .5 m it posted for the same period of 2009 .\n",
            "Original Label: negative\n",
            "Predicted Label with Examples: negative\n",
            "\n",
            "Title: Finnish electronics manufacturing services EMS company Elcoteq SE posted a net loss of 66.4 mln euro $ 91.2 mln for the first half of 2007 , compared to a net profit of 7.1 mln euro $ 9.8 mln for the same period of 2006 .\n",
            "Original Label: negative\n",
            "Predicted Label with Examples: negative\n",
            "\n",
            "Title: In September alone , the market declined by 10.2 percent year-on-year to 19.28 million liters .\n",
            "Original Label: negative\n",
            "Predicted Label with Examples: negative\n",
            "\n",
            "Title: Elisa Corporation will disclose its financial statements for 2006 on Thursday , 8 February 2007 .\n",
            "Original Label: neutral\n",
            "Predicted Label with Examples: neutral\n",
            "\n",
            "Title: Castecka said the town hall would hold talks with other investors interested in the zone .\n",
            "Original Label: neutral\n",
            "Predicted Label with Examples: neutral\n",
            "\n",
            "Title: The Moscow Metro ( www.mosmetro.ru ) was the first metro system in Europe to implement smart cards together with a new type of magnetic card in 1998 .\n",
            "Original Label: neutral\n",
            "Predicted Label with Examples: neutral\n",
            "\n",
            "Title: The company will disclose further details , including the anticipated transaction timetable and the name of the new investor , within one week .\n",
            "Original Label: neutral\n",
            "Predicted Label with Examples: neutral\n",
            "\n",
            "Title: A PLUMBING business has announced it is sponsoring a professional darts player .\n",
            "Original Label: neutral\n",
            "Predicted Label with Examples: neutral\n",
            "\n",
            "Title: Neste Oil s refineries have a combined crude oil refining capacity of approximately 260,000 barrels a day .\n",
            "Original Label: neutral\n",
            "Predicted Label with Examples: neutral\n",
            "\n",
            "Title: Rockwell Collins is a provider of flight deck , cabin and information management solutions for business aircraft operators .\n",
            "Original Label: neutral\n",
            "Predicted Label with Examples: neutral\n",
            "\n",
            "Title: The webcast may be followed online on the company website at www.ruukki.com/investors .\n",
            "Original Label: neutral\n",
            "Predicted Label with Examples: neutral\n",
            "\n",
            "Title: Destia Oy is a Finnish infrastructure and construction service company building , maintaining and designing traffic routes , industrial and traffic environments , but also complete living environments .\n",
            "Original Label: neutral\n",
            "Predicted Label with Examples: neutral\n",
            "\n",
            "Title: Benefon will turn the Salo unit into a B2B business unit and establish a B2C business unit in the UK .\n",
            "Original Label: neutral\n",
            "Predicted Label with Examples: neutral\n",
            "\n",
            "Title: Neste Oil will publish its third quarter 2008 results on Friday , 24 October 2008 at approximately 9 am ( EET ) .\n",
            "Original Label: neutral\n",
            "Predicted Label with Examples: neutral\n",
            "\n",
            "Title: Cohen & Steers , Inc. : 5 534 626 shares representing 4.985 % of the share capital and voting rights .\n",
            "Original Label: neutral\n",
            "Predicted Label with Examples: neutral\n",
            "\n",
            "Title: One can also apply for jobs directly from the iPad , select which CV to attach and which covering letter is most appropriate for each position .\n",
            "Original Label: neutral\n",
            "Predicted Label with Examples: neutral\n",
            "\n",
            "Title: The presentation material can be viewed on the company 's website in English after the conference .\n",
            "Original Label: neutral\n",
            "Predicted Label with Examples: neutral\n",
            "\n",
            "Title: The firm 's UK head office is in Rugby Road , Lutterworth .\n",
            "Original Label: neutral\n",
            "Predicted Label with Examples: neutral\n",
            "\n",
            "Title: When completed , the 120-meter Watchtower will be the highest building in Ireland .\n",
            "Original Label: neutral\n",
            "Predicted Label with Examples: neutral\n",
            "\n",
            "Title: Decisions are to be made as quickly as possible .\n",
            "Original Label: neutral\n",
            "Predicted Label with Examples: neutral\n",
            "\n",
            "Title: In accordance with the terms and conditions of Alma Media 's 2006 option program , the share subscription price for the 2006A option rights was EUR 4.88 per share and the book countervalue EUR 0.60 per share .\n",
            "Original Label: neutral\n",
            "Predicted Label with Examples: neutral\n",
            "\n",
            "Title: Finnlines will announce in week 17 of 2006 what measures it will take to tackle the situation .\n",
            "Original Label: neutral\n",
            "Predicted Label with Examples: neutral\n",
            "\n",
            "Title: Raute is listed on the Nordic exchange in Helsinki .\n",
            "Original Label: neutral\n",
            "Predicted Label with Examples: neutral\n",
            "\n"
          ]
        }
      ]
    },
    {
      "cell_type": "markdown",
      "source": [
        "**RESULTS & OBSERVATIONS**\n",
        "\n",
        "After providing just 4 examples of the correct sentiments for each category, the accuracy improved to 96.67% for the same data set of news titles as used earlier. It is evident that with 12-shot prompting, there is an uptick in accuracy. This is because the model has more information on how to predict similar news titles."
      ],
      "metadata": {
        "id": "y4Y5kQ-iAD4a"
      }
    },
    {
      "cell_type": "markdown",
      "source": [
        "## Prepare training data for FineTuning\n",
        "From each category of sentiments, 150 news titles are randomly selected and put together in a jsonl format which is later used to fine-tune the GPT-3.5-turbo model."
      ],
      "metadata": {
        "id": "giDENTzDFeEU"
      }
    },
    {
      "cell_type": "code",
      "source": [
        "import json\n",
        "\n",
        "#Extract training data: 150 titles from each category\n",
        "train_positive, train_negative, train_neutral = get_random_titles(positive, negative, neutral, 150)\n",
        "\n",
        "# Modify the data structure to a list of dictionaries\n",
        "# train_data = [{'title': title, 'label': label} for category in [train_positive, train_negative, train_neutral] for title, label in category]\n",
        "\n",
        "# Modify the data structure to a list of dictionaries\n",
        "train_data = []\n",
        "for category, label in zip([train_positive, train_negative, train_neutral], ['positive', 'negative', 'neutral']):\n",
        "    for title in category:\n",
        "        train_data.append({'title': title.split('@')[0].strip(), 'label': label})\n",
        "\n",
        "\n",
        "# Save training data to JSON file\n",
        "with open('train_data.json', 'w', encoding='utf-8') as train_file:\n",
        "    json.dump(train_data, train_file, ensure_ascii=False, indent=4)\n",
        "\n",
        "#define the system message\n",
        "system_message = \"You are a helpful assistant to categorize news title as 'positive', 'negative', or 'neutral' based on its impact on stock prices from the viewpoint of a retail investor.\"\n",
        "\n",
        "# Function to convert the training data to jsonl format\n",
        "def convert_to_jsonl_format(data):\n",
        "    jsonl_data = []\n",
        "    for item in data:\n",
        "        title = item['title']\n",
        "        label = item['label']\n",
        "        jsonl_entry = {\n",
        "            \"messages\": [\n",
        "                {\"role\": \"system\", \"content\": system_message},\n",
        "                {\"role\": \"user\", \"content\": title},\n",
        "                {\"role\": \"assistant\", \"content\": label}\n",
        "            ]\n",
        "        }\n",
        "        jsonl_data.append(jsonl_entry)\n",
        "    return jsonl_data\n",
        "\n",
        "# Convert training data to jsonl format\n",
        "jsonl_train_data = convert_to_jsonl_format(train_data)\n",
        "\n",
        "# Save the jsonl formatted data to a file\n",
        "with open('train_data.jsonl', 'w', encoding='utf-8') as jsonl_file:\n",
        "    for entry in jsonl_train_data:\n",
        "        jsonl_file.write(json.dumps(entry, ensure_ascii=False) + '\\n')\n",
        "\n",
        "print(\"Training data has been saved in 'train_data.jsonl' format.\")"
      ],
      "metadata": {
        "colab": {
          "base_uri": "https://localhost:8080/"
        },
        "id": "CP_z1SZYFdmN",
        "outputId": "2deea940-8ba6-435e-801c-377e0ab19f04"
      },
      "execution_count": 38,
      "outputs": [
        {
          "output_type": "stream",
          "name": "stdout",
          "text": [
            "Training data has been saved in 'train_data.jsonl' format.\n"
          ]
        }
      ]
    },
    {
      "cell_type": "markdown",
      "source": [
        "create a unique file for fine-tuning model"
      ],
      "metadata": {
        "id": "E0DNWoovRK03"
      }
    },
    {
      "cell_type": "code",
      "source": [
        "with open('train_data.jsonl', 'rb') as file:\n",
        "    result = client.files.create(\n",
        "        file=file,\n",
        "        purpose='fine-tune'\n",
        "    )\n",
        "\n",
        "# Get the file ID\n",
        "file_id = result.id\n",
        "\n",
        "print(f\"File ID: {file_id}\")"
      ],
      "metadata": {
        "colab": {
          "base_uri": "https://localhost:8080/"
        },
        "id": "VmrX7tugGuNn",
        "outputId": "9f47d419-2386-4dc2-a0c2-4b9034ec9e59"
      },
      "execution_count": 22,
      "outputs": [
        {
          "output_type": "stream",
          "name": "stdout",
          "text": [
            "File ID: file-k5Ij54hXdjOHABhTzUhk6WxI\n"
          ]
        }
      ]
    },
    {
      "cell_type": "code",
      "source": [
        "\n",
        "client.fine_tuning.jobs.create(\n",
        "  training_file=file_id,\n",
        "  model=\"gpt-3.5-turbo\"\n",
        ")"
      ],
      "metadata": {
        "colab": {
          "base_uri": "https://localhost:8080/"
        },
        "id": "U8HpWqpJE8_w",
        "outputId": "f4fce534-4ef3-4b9d-b4a5-1128bb6f8354"
      },
      "execution_count": 25,
      "outputs": [
        {
          "output_type": "execute_result",
          "data": {
            "text/plain": [
              "FineTuningJob(id='ftjob-HifZTGGXmbGuZfs5GBqo0r2I', created_at=1720743864, error=Error(code=None, message=None, param=None), fine_tuned_model=None, finished_at=None, hyperparameters=Hyperparameters(n_epochs='auto', batch_size='auto', learning_rate_multiplier='auto'), model='gpt-3.5-turbo-0125', object='fine_tuning.job', organization_id='org-1S6yJfTUME6AFF6HTQsDM3Mi', result_files=[], seed=1561064069, status='validating_files', trained_tokens=None, training_file='file-k5Ij54hXdjOHABhTzUhk6WxI', validation_file=None, estimated_finish=None, integrations=[], user_provided_suffix=None)"
            ]
          },
          "metadata": {},
          "execution_count": 25
        }
      ]
    },
    {
      "cell_type": "code",
      "source": [
        "client.fine_tuning.jobs.list()"
      ],
      "metadata": {
        "colab": {
          "base_uri": "https://localhost:8080/"
        },
        "id": "_KHNKtylHXU_",
        "outputId": "788fe918-1d4c-45e4-fc5f-bed4fe482e85"
      },
      "execution_count": 26,
      "outputs": [
        {
          "output_type": "execute_result",
          "data": {
            "text/plain": [
              "SyncCursorPage[FineTuningJob](data=[FineTuningJob(id='ftjob-HifZTGGXmbGuZfs5GBqo0r2I', created_at=1720743864, error=Error(code=None, message=None, param=None), fine_tuned_model=None, finished_at=None, hyperparameters=Hyperparameters(n_epochs=3, batch_size=1, learning_rate_multiplier=2), model='gpt-3.5-turbo-0125', object='fine_tuning.job', organization_id='org-1S6yJfTUME6AFF6HTQsDM3Mi', result_files=[], seed=1561064069, status='validating_files', trained_tokens=None, training_file='file-k5Ij54hXdjOHABhTzUhk6WxI', validation_file=None, estimated_finish=None, integrations=[], user_provided_suffix=None), FineTuningJob(id='ftjob-LPSrv6RyTZ3GY0xKiRNzqbt2', created_at=1720729054, error=Error(code=None, message=None, param=None), fine_tuned_model='ft:gpt-3.5-turbo-0125:personal::9jv7YYhU', finished_at=1720731359, hyperparameters=Hyperparameters(n_epochs=3, batch_size=1, learning_rate_multiplier=2), model='gpt-3.5-turbo-0125', object='fine_tuning.job', organization_id='org-1S6yJfTUME6AFF6HTQsDM3Mi', result_files=['file-JGxtJvJ8cylGQhBRC51Th4FM'], seed=779916893, status='succeeded', trained_tokens=111405, training_file='file-YpJ3yNFhlIwyIrcLgtbKFWnI', validation_file=None, estimated_finish=None, integrations=[], user_provided_suffix=None), FineTuningJob(id='ftjob-UNV7yUCiiVyX0lkgOiGKx0KZ', created_at=1720728651, error=Error(code=None, message=None, param=None), fine_tuned_model='ft:gpt-3.5-turbo-0125:personal::9jv32jl2', finished_at=1720731079, hyperparameters=Hyperparameters(n_epochs=3, batch_size=1, learning_rate_multiplier=2), model='gpt-3.5-turbo-0125', object='fine_tuning.job', organization_id='org-1S6yJfTUME6AFF6HTQsDM3Mi', result_files=['file-MU1Kp7yKMtiJ4zlAUGqKTz2e'], seed=2074513695, status='succeeded', trained_tokens=111969, training_file='file-cLvVTtFKBhNLXRjiMaPrvYeY', validation_file=None, estimated_finish=None, integrations=[], user_provided_suffix=None), FineTuningJob(id='ftjob-6hX1GeWISMLksspYjNpGJEjr', created_at=1720726460, error=Error(code='invalid_training_file', message=\"The job failed due to an invalid training file. Invalid file format. Example 1'utf-8' codec can't decode byte 0xf1 in position 34307: invalid continuation byte\", param='training_file'), fine_tuned_model=None, finished_at=None, hyperparameters=Hyperparameters(n_epochs='auto', batch_size='auto', learning_rate_multiplier='auto'), model='gpt-3.5-turbo-0125', object='fine_tuning.job', organization_id='org-1S6yJfTUME6AFF6HTQsDM3Mi', result_files=[], seed=2031625267, status='failed', trained_tokens=None, training_file='file-SNQzWKXmh7elXKi5dx4M3WEw', validation_file=None, estimated_finish=None, integrations=[], user_provided_suffix=None), FineTuningJob(id='ftjob-h5m7LKIprEX9XBYuJlxC22AK', created_at=1720726138, error=Error(code='invalid_training_file', message=\"The job failed due to an invalid training file. Invalid file format. Example 1'utf-8' codec can't decode byte 0xe0 in position 21594: invalid continuation byte\", param='training_file'), fine_tuned_model=None, finished_at=None, hyperparameters=Hyperparameters(n_epochs='auto', batch_size='auto', learning_rate_multiplier='auto'), model='gpt-3.5-turbo-0125', object='fine_tuning.job', organization_id='org-1S6yJfTUME6AFF6HTQsDM3Mi', result_files=[], seed=1793860793, status='failed', trained_tokens=None, training_file='file-GrTf7WyNms6ITqPo0Ld0q47y', validation_file=None, estimated_finish=None, integrations=[], user_provided_suffix=None)], object='list', has_more=False)"
            ]
          },
          "metadata": {},
          "execution_count": 26
        }
      ]
    },
    {
      "cell_type": "code",
      "source": [
        "client.fine_tuning.jobs.retrieve(\"ftjob-HifZTGGXmbGuZfs5GBqo0r2I\")"
      ],
      "metadata": {
        "colab": {
          "base_uri": "https://localhost:8080/"
        },
        "id": "0PtTcSy6UFy4",
        "outputId": "f3bf14ae-11b8-4d80-874f-495ddd39c89c"
      },
      "execution_count": 28,
      "outputs": [
        {
          "output_type": "execute_result",
          "data": {
            "text/plain": [
              "FineTuningJob(id='ftjob-HifZTGGXmbGuZfs5GBqo0r2I', created_at=1720743864, error=Error(code=None, message=None, param=None), fine_tuned_model=None, finished_at=None, hyperparameters=Hyperparameters(n_epochs=3, batch_size=1, learning_rate_multiplier=2), model='gpt-3.5-turbo-0125', object='fine_tuning.job', organization_id='org-1S6yJfTUME6AFF6HTQsDM3Mi', result_files=[], seed=1561064069, status='running', trained_tokens=None, training_file='file-k5Ij54hXdjOHABhTzUhk6WxI', validation_file=None, estimated_finish=None, integrations=[], user_provided_suffix=None)"
            ]
          },
          "metadata": {},
          "execution_count": 28
        }
      ]
    },
    {
      "cell_type": "markdown",
      "source": [
        "## Prepare Test data set\n"
      ],
      "metadata": {
        "id": "q-RKVN1KUudR"
      }
    },
    {
      "cell_type": "code",
      "source": [
        "# Extract test data: 500 titles from the remaining data\n",
        "remaining_positive = [item for item in positive if item not in train_positive]\n",
        "remaining_negative = [item for item in negative if item not in train_negative]\n",
        "remaining_neutral = [item for item in neutral if item not in train_neutral]\n",
        "\n",
        "# Ensuring there are enough remaining titles to sample from\n",
        "remaining_positive = remaining_positive[:500]\n",
        "remaining_negative = remaining_negative[:500]\n",
        "remaining_neutral = remaining_neutral[:500]\n",
        "\n",
        "test_positive, test_negative, test_neutral = get_random_titles(remaining_positive, remaining_negative, remaining_neutral, 153)\n",
        "test_data = test_positive + test_negative + test_neutral\n",
        "test_data = [{'title': title.split('@')[0].strip(), 'label': title.split('@')[-1]} for title in test_data]\n",
        "\n",
        "# Save test data to JSON file\n",
        "with open('test_data.json', 'w', encoding='utf-8') as test_file:\n",
        "    json.dump(test_data, test_file, ensure_ascii=False, indent=4)"
      ],
      "metadata": {
        "id": "OWWF2n7YUt3z"
      },
      "execution_count": 39,
      "outputs": []
    },
    {
      "cell_type": "markdown",
      "source": [
        "## Predictions with Fine-Tuned Model\n"
      ],
      "metadata": {
        "id": "_6tVP3eblie1"
      }
    },
    {
      "cell_type": "code",
      "source": [
        "# Load test data\n",
        "with open('test_data.json', 'r', encoding='utf-8') as test_file:\n",
        "    test_data = json.load(test_file)\n",
        "\n",
        "# Define the system message\n",
        "system_message = \"You are a helpful assistant to categorize news title as 'positive', 'negative', or 'neutral' based on its impact on stock prices from the viewpoint of a retail investor.\"\n",
        "\n",
        "# Function to create prompt for the fine-tuned model\n",
        "def create_prompt_with_examples(title):\n",
        "    return [\n",
        "        {\"role\": \"system\", \"content\": system_message},\n",
        "        {\"role\": \"user\", \"content\": title}\n",
        "    ]\n",
        "\n",
        "# Function to make predictions using the fine-tuned GPT model\n",
        "def predict_sentiment(title):\n",
        "    prompt = create_prompt_with_examples(title)\n",
        "    response = client.chat.completions.create(\n",
        "        model=\"ft:gpt-3.5-turbo-0125:personal::9jzE106Q\",  # Replace with your fine-tuned model name\n",
        "        messages=prompt\n",
        "    )\n",
        "    response_text = response.choices[0].message.content.strip().lower()\n",
        "    # Ensure only the label is returned\n",
        "    if \"positive\" in response_text:\n",
        "        return \"positive\"\n",
        "    elif \"negative\" in response_text:\n",
        "        return \"negative\"\n",
        "    elif \"neutral\" in response_text:\n",
        "        return \"neutral\"\n",
        "    else:\n",
        "        return \"unknown\"  # Handle unexpected cases\n",
        "\n",
        "# Predict sentiments for the test data\n",
        "predicted_labels = [predict_sentiment(item['title']) for item in test_data]\n",
        "\n",
        "# Extract original labels for comparison\n",
        "original_labels = [item['label'].lower() for item in test_data]\n",
        "\n",
        "# Compare the original and predicted labels and calculate accuracy\n",
        "correct_predictions = sum(1 for orig, pred in zip(original_labels, predicted_labels) if orig == pred)\n",
        "total_predictions = len(original_labels)\n",
        "accuracy = correct_predictions / total_predictions\n",
        "\n",
        "# Print the results and accuracy\n",
        "print(f\"Correct Predictions: {correct_predictions}\")\n",
        "print(f\"Total Predictions: {total_predictions}\")\n",
        "print(f\"Accuracy: {accuracy * 100:.2f}%\")"
      ],
      "metadata": {
        "colab": {
          "base_uri": "https://localhost:8080/"
        },
        "id": "gFcvr2O6lpZP",
        "outputId": "608cc9ad-d783-48b5-a2bb-17841ea61ebe"
      },
      "execution_count": 31,
      "outputs": [
        {
          "output_type": "stream",
          "name": "stdout",
          "text": [
            "Correct Predictions: 452\n",
            "Total Predictions: 459\n",
            "Accuracy: 98.47%\n"
          ]
        }
      ]
    },
    {
      "cell_type": "markdown",
      "source": [
        "With the fine-tuned LLM, the model is able to predict the news sentiments more accurately than before. With 98.47% accuracy when tested against 459 news titles, 452 were accurately classified. This is an expected results as the model has learned about the new information that were not present in training the foundational model."
      ],
      "metadata": {
        "id": "3nxRZWXji2C0"
      }
    },
    {
      "cell_type": "markdown",
      "source": [
        "## **Confusion Matrix**\n"
      ],
      "metadata": {
        "id": "UfvQ4hM4TPSi"
      }
    },
    {
      "cell_type": "code",
      "source": [
        "from sklearn.metrics import confusion_matrix, classification_report\n",
        "import matplotlib.pyplot as plt\n",
        "import seaborn as sns\n",
        "\n",
        "# Generate confusion matrix\n",
        "labels = [\"positive\", \"negative\", \"neutral\"]\n",
        "cm = confusion_matrix(original_labels, predicted_labels, labels=labels)\n",
        "\n",
        "# Print classification report\n",
        "print(classification_report(original_labels, predicted_labels, target_names=labels))\n",
        "\n",
        "# Plot confusion matrix\n",
        "plt.figure(figsize=(10, 7))\n",
        "sns.heatmap(cm, annot=True, fmt='d', cmap='Blues', xticklabels=labels, yticklabels=labels)\n",
        "plt.xlabel('Predicted')\n",
        "plt.ylabel('True')\n",
        "plt.title('Confusion Matrix')\n",
        "plt.show()"
      ],
      "metadata": {
        "colab": {
          "base_uri": "https://localhost:8080/",
          "height": 815
        },
        "id": "X1DcV7pkTWqr",
        "outputId": "633e30cd-2eb3-4411-83df-6f2a0d0cff17"
      },
      "execution_count": 32,
      "outputs": [
        {
          "output_type": "stream",
          "name": "stdout",
          "text": [
            "              precision    recall  f1-score   support\n",
            "\n",
            "    positive       1.00      0.98      0.99       153\n",
            "    negative       0.99      0.97      0.98       153\n",
            "     neutral       0.96      1.00      0.98       153\n",
            "\n",
            "    accuracy                           0.98       459\n",
            "   macro avg       0.99      0.98      0.98       459\n",
            "weighted avg       0.99      0.98      0.98       459\n",
            "\n"
          ]
        },
        {
          "output_type": "display_data",
          "data": {
            "text/plain": [
              "<Figure size 1000x700 with 2 Axes>"
            ],
            "image/png": "[encoded data removed]"
          },
          "metadata": {}
        }
      ]
    },
    {
      "cell_type": "markdown",
      "source": [
        "## Validation against handpicked news\n",
        "10 recent news were selected from the web and feed into the fine-tuned model to predict their sentiment. Then, the author used his human intelligence to classify the sentiment of the same set of news."
      ],
      "metadata": {
        "id": "ndv9GbgXdeET"
      }
    },
    {
      "cell_type": "code",
      "source": [
        "# Define the news headlines\n",
        "news_headlines = [\n",
        "    \"Tesla Delays Robotaxi Event in Blow to Musk’s Autonomy Drive\",\n",
        "    \"Delta’s Sagging Profit Signals trouble for airlines this summer\",\n",
        "    \"Global EV sales up 13% in June, down 7% in Europe\",\n",
        "    \"Referendum set for South Dakota voters on controversial carbon dioxide pipeline law\",\n",
        "    \"OpenAI Scale ranks progress toward ‘Human-Level’ Problem solving\",\n",
        "    \"Costco stock has a 12% upside after raising its annual membership fees for the first time since 2017, according to Bank of America.\",\n",
        "    \"Oil rose for a third day as optimism in wider financial markets, spurred by indications that US interest-rate cuts are on the way, helped to propel futures higher.\",\n",
        "    \"US appeals court says some NCAA athletes may qualify as employees under federal wage-and-hour laws\",\n",
        "    \"Extreme heat kills more people in the US than hurricanes, floods, and tornadoes combined.\",\n",
        "    \"US would keep more hydropower under agreement with Canada under treaty governing Columbia River\"\n",
        "]\n",
        "\n",
        "# Define the system message\n",
        "system_message = \"You are a helpful assistant to categorize news title as 'positive', 'negative', or 'neutral' based on its impact on stock prices from the viewpoint of a retail investor.\"\n",
        "\n",
        "# Function to create prompt for the fine-tuned model\n",
        "def create_prompt(title):\n",
        "    return [\n",
        "        {\"role\": \"system\", \"content\": system_message},\n",
        "        {\"role\": \"user\", \"content\": f\"Title: {title}\\nCategorize the news title as 'positive', 'negative', or 'neutral' based on its impact on stock prices from the viewpoint of a retail investor.\"}\n",
        "    ]\n",
        "\n",
        "# Function to make predictions using the fine-tuned GPT model\n",
        "def predict_sentiment(title):\n",
        "    prompt = create_prompt(title)\n",
        "    response = client.chat.completions.create(\n",
        "        model=\"ft:gpt-3.5-turbo-0125:personal::9jzE106Q\",  # Replace with your fine-tuned model name\n",
        "        messages=prompt\n",
        "    )\n",
        "    response_text = response.choices[0].message.content.strip().lower()\n",
        "    # Ensure only the label is returned\n",
        "    if \"positive\" in response_text:\n",
        "        return \"positive\"\n",
        "    elif \"negative\" in response_text:\n",
        "        return \"negative\"\n",
        "    elif \"neutral\" in response_text:\n",
        "        return \"neutral\"\n",
        "    else:\n",
        "        return \"unknown\"  # Handle unexpected cases\n",
        "\n",
        "# Categorize each news headline\n",
        "predicted_labels = {title: predict_sentiment(title) for title in news_headlines}\n",
        "\n",
        "# Print the results\n",
        "for title, label in predicted_labels.items():\n",
        "    print(f\"Title: {title}\\nPredicted Label: {label}\\n\")\n",
        "\n"
      ],
      "metadata": {
        "colab": {
          "base_uri": "https://localhost:8080/"
        },
        "id": "nAh0naPijC5f",
        "outputId": "0d256a3b-bd5e-4b0d-c27c-492f977583be"
      },
      "execution_count": 34,
      "outputs": [
        {
          "output_type": "stream",
          "name": "stdout",
          "text": [
            "Title: Tesla Delays Robotaxi Event in Blow to Musk’s Autonomy Drive\n",
            "Predicted Label: negative\n",
            "\n",
            "Title: Delta’s Sagging Profit Signals trouble for airlines this summer\n",
            "Predicted Label: negative\n",
            "\n",
            "Title: Global EV sales up 13% in June, down 7% in Europe\n",
            "Predicted Label: positive\n",
            "\n",
            "Title: Referendum set for South Dakota voters on controversial carbon dioxide pipeline law\n",
            "Predicted Label: neutral\n",
            "\n",
            "Title: OpenAI Scale ranks progress toward ‘Human-Level’ Problem solving\n",
            "Predicted Label: positive\n",
            "\n",
            "Title: Costco stock has a 12% upside after raising its annual membership fees for the first time since 2017, according to Bank of America.\n",
            "Predicted Label: positive\n",
            "\n",
            "Title: Oil rose for a third day as optimism in wider financial markets, spurred by indications that US interest-rate cuts are on the way, helped to propel futures higher.\n",
            "Predicted Label: positive\n",
            "\n",
            "Title: US appeals court says some NCAA athletes may qualify as employees under federal wage-and-hour laws\n",
            "Predicted Label: positive\n",
            "\n",
            "Title: Extreme heat kills more people in the US than hurricanes, floods, and tornadoes combined.\n",
            "Predicted Label: negative\n",
            "\n",
            "Title: US would keep more hydropower under agreement with Canada under treaty governing Columbia River\n",
            "Predicted Label: positive\n",
            "\n"
          ]
        }
      ]
    },
    {
      "cell_type": "markdown",
      "source": [
        "Using the chat completions API along with the fine-tuned model, it seems to predict the news sentiments quite accurately.\n",
        "\n",
        "As a human, I agree with all the prediction made by the fine-tuned model on the 10 news above. Though the news of heat waves taking people's lives may not be financial news, I'd argue that it be classified as neutral. However, any extreme weather conditions have historically had impacts on the stock prices.\n",
        "\n",
        "Therefore, it can be concluded that the fine-tuned model is capable of performing at human-level intelligence in some cases."
      ],
      "metadata": {
        "id": "ebnHqK6tkLFT"
      }
    }
  ]
}