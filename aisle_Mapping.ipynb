{
  "nbformat": 4,
  "nbformat_minor": 0,
  "metadata": {
    "colab": {
      "provenance": []
    },
    "kernelspec": {
      "name": "python3",
      "display_name": "Python 3"
    },
    "language_info": {
      "name": "python"
    }
  },
  "cells": [
    {
      "cell_type": "markdown",
      "source": [
        "Using any OpenAI model or Groq (llama 70b) model, solve the aisle mapping problem.  OpenAI code is provided here. You will do the usual 3 steps in terms of mounting the Google drive, your API key and install one of the LLM models, and import pandas.  Your goal is to do a model comparison and validation.\n",
        "**The code below works for OpenAI gpt-4o model.  Have not tested it on Llama model.  Also, this code with the dataset  may blow your budget if you are not careful with the size of test dataset, so exercise caution.**"
      ],
      "metadata": {
        "id": "f70xarX4M08z"
      }
    },
    {
      "cell_type": "code",
      "execution_count": null,
      "metadata": {
        "id": "QOYLii309HMZ"
      },
      "outputs": [],
      "source": [
        "df = pd.read_excel('Aisle-Mapping.xlsx')"
      ]
    },
    {
      "cell_type": "code",
      "execution_count": null,
      "metadata": {
        "id": "qaOJcT-l9NWw"
      },
      "outputs": [],
      "source": [
        "groceries = df['Grocery ITEM'].dropna().tolist()\n",
        "aisles = df['Aisle Category'].dropna().tolist()"
      ]
    },
    {
      "cell_type": "code",
      "source": [],
      "metadata": {
        "id": "ZEGneh0bOciu"
      },
      "execution_count": null,
      "outputs": []
    },
    {
      "cell_type": "code",
      "execution_count": null,
      "metadata": {
        "id": "-dQsDVjv-Ejn"
      },
      "outputs": [],
      "source": [
        "batch_size = 50  # Adjust the batch size as needed\n",
        "separator=\",\"\n",
        "\n",
        "# Function to get the best matches for a batch of keywords using chat completion\n",
        "def get_best_matches_batch(grocery_batch, aisle_list):\n",
        "    prompt = \"Match each grocery item in the  grocery list with the most appropriate aisle category from the provided list of aisle categories.\\n\\n\"\n",
        "    prompt += \"The grocery list items are separated by commas. The list of aisles are also separated by commas. \\n\\n\"\n",
        "    prompt += \"List of grocery items to match:\\n\" + \"\\n\"+ \"\\n\"+separator.join(grocery_batch)+  \"\\n\\n\"\n",
        "    prompt += \"List of provided aisle categories:\\n\" + \"\\n\"+ \"\\n\"+separator.join(aisle_list)+ \"\\n\\n\"\n",
        "    prompt += \"If an appropriate aisle category is not to be found in the list, use Other \\n\\n\"\n",
        "    prompt += \"Return the matches in the format 'grocery item -> aisle category \\n\\n\"\n",
        "    prompt+=\"You must absolutely make sure that each grocery item is mapped to an aisle category\"\n",
        "    #print(prompt)\n",
        "    response = client.chat.completions.create(\n",
        "        model=\"gpt-4o\",\n",
        "        messages=[\n",
        "            {\"role\": \"system\", \"content\": \"You are a helpful assistant that matches grocery items to aisle categories based on a typical grocery store or a supermarket in the USA.\"},\n",
        "            {\"role\": \"user\", \"content\": prompt}\n",
        "        ],\n",
        "        max_tokens=4096,\n",
        "        temperature=0.0\n",
        "    )\n",
        "    matches = response.choices[0].message.content\n",
        "    return matches"
      ]
    },
    {
      "cell_type": "code",
      "execution_count": null,
      "metadata": {
        "id": "656Q36Vy_2zW"
      },
      "outputs": [],
      "source": [
        "grocery_batch = groceries[0: batch_size]\n",
        "batch_matches = get_best_matches_batch(grocery_batch, aisles)\n",
        "print(batch_matches)\n",
        "\n",
        "\n"
      ]
    }
  ]
}